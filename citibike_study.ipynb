{
  "nbformat": 4,
  "nbformat_minor": 0,
  "metadata": {
    "colab": {
      "provenance": [],
      "authorship_tag": "ABX9TyONtFxWBJijkCBKQp1iU2PP",
      "include_colab_link": true
    },
    "kernelspec": {
      "name": "python3",
      "display_name": "Python 3"
    },
    "language_info": {
      "name": "python"
    }
  },
  "cells": [
    {
      "cell_type": "markdown",
      "metadata": {
        "id": "view-in-github",
        "colab_type": "text"
      },
      "source": [
        "<a href=\"https://colab.research.google.com/github/cbobrasil/bike-rental-study/blob/main/citibike_study.ipynb\" target=\"_parent\"><img src=\"https://colab.research.google.com/assets/colab-badge.svg\" alt=\"Open In Colab\"/></a>"
      ]
    },
    {
      "cell_type": "code",
      "source": [
        "!pip install mpld3"
      ],
      "metadata": {
        "colab": {
          "base_uri": "https://localhost:8080/"
        },
        "id": "-hpkILmVMode",
        "outputId": "a17286a9-3856-40fc-f080-8fab0d96237a"
      },
      "execution_count": 2,
      "outputs": [
        {
          "output_type": "stream",
          "name": "stdout",
          "text": [
            "Looking in indexes: https://pypi.org/simple, https://us-python.pkg.dev/colab-wheels/public/simple/\n",
            "Collecting mpld3\n",
            "  Downloading mpld3-0.5.9-py3-none-any.whl (201 kB)\n",
            "\u001b[2K     \u001b[90m━━━━━━━━━━━━━━━━━━━━━━━━━━━━━━━━━━━━━━━\u001b[0m \u001b[32m201.2/201.2 KB\u001b[0m \u001b[31m3.9 MB/s\u001b[0m eta \u001b[36m0:00:00\u001b[0m\n",
            "\u001b[?25hRequirement already satisfied: matplotlib in /usr/local/lib/python3.8/dist-packages (from mpld3) (3.2.2)\n",
            "Requirement already satisfied: jinja2 in /usr/local/lib/python3.8/dist-packages (from mpld3) (2.11.3)\n",
            "Requirement already satisfied: MarkupSafe>=0.23 in /usr/local/lib/python3.8/dist-packages (from jinja2->mpld3) (2.0.1)\n",
            "Requirement already satisfied: cycler>=0.10 in /usr/local/lib/python3.8/dist-packages (from matplotlib->mpld3) (0.11.0)\n",
            "Requirement already satisfied: pyparsing!=2.0.4,!=2.1.2,!=2.1.6,>=2.0.1 in /usr/local/lib/python3.8/dist-packages (from matplotlib->mpld3) (3.0.9)\n",
            "Requirement already satisfied: python-dateutil>=2.1 in /usr/local/lib/python3.8/dist-packages (from matplotlib->mpld3) (2.8.2)\n",
            "Requirement already satisfied: numpy>=1.11 in /usr/local/lib/python3.8/dist-packages (from matplotlib->mpld3) (1.21.6)\n",
            "Requirement already satisfied: kiwisolver>=1.0.1 in /usr/local/lib/python3.8/dist-packages (from matplotlib->mpld3) (1.4.4)\n",
            "Requirement already satisfied: six>=1.5 in /usr/local/lib/python3.8/dist-packages (from python-dateutil>=2.1->matplotlib->mpld3) (1.15.0)\n",
            "Installing collected packages: mpld3\n",
            "Successfully installed mpld3-0.5.9\n"
          ]
        }
      ]
    },
    {
      "cell_type": "code",
      "execution_count": 11,
      "metadata": {
        "colab": {
          "base_uri": "https://localhost:8080/",
          "height": 313
        },
        "id": "IcGpCigSMQxz",
        "outputId": "dfbacaa8-be5f-40ea-e94f-8c4ba5f96153"
      },
      "outputs": [
        {
          "output_type": "execute_result",
          "data": {
            "text/plain": [
              "False"
            ]
          },
          "metadata": {},
          "execution_count": 11
        },
        {
          "output_type": "display_data",
          "data": {
            "text/plain": [
              "<Figure size 432x288 with 1 Axes>"
            ],
            "image/png": "[encoded data removed]"
          },
          "metadata": {
            "needs_background": "light"
          }
        }
      ],
      "source": [
        "import pandas as pd\n",
        "import numpy as np\n",
        "import matplotlib.pyplot as plt\n",
        "import mpld3\n",
        "import webbrowser\n",
        "\n",
        "\n",
        "\n",
        "data_201601 = pd.read_csv(r'/content/data/JC-201601-citibike-tripdata.csv')\n",
        "data_201602 = pd.read_csv(r'/content/data/JC-201602-citibike-tripdata.csv')\n",
        "data_201603 = pd.read_csv(r'/content/data/JC-201603-citibike-tripdata.csv')\n",
        "data_201604 = pd.read_csv(r'/content/data/JC-201604-citibike-tripdata.csv')\n",
        "data_201605 = pd.read_csv(r'/content/data/JC-201605-citibike-tripdata.csv')\n",
        "data_201606 = pd.read_csv(r'/content/data/JC-201606-citibike-tripdata.csv')\n",
        "data_201607 = pd.read_csv(r'/content/data/JC-201607-citibike-tripdata.csv')\n",
        "data_201608 = pd.read_csv(r'/content/data/JC-201608-citibike-tripdata.csv')\n",
        "data_201609 = pd.read_csv(r'/content/data/JC-201609-citibike-tripdata.csv')\n",
        "data_201610 = pd.read_csv(r'/content/data/JC-201610-citibike-tripdata.csv')\n",
        "data_201611 = pd.read_csv(r'/content/data/JC-201611-citibike-tripdata.csv')\n",
        "data_201612 = pd.read_csv(r'/content/data/JC-201612-citibike-tripdata.csv')\n",
        "\n",
        "data_2016 = pd.concat([data_201601,data_201602,data_201603,data_201604,data_201605,data_201606,data_201607,data_201608,data_201609,data_201610,data_201611,data_201612])\n",
        "data_2016['Start Time'] = pd.to_datetime(data_2016['Start Time'])\n",
        "data_2016['Stop Time'] = pd.to_datetime(data_2016['Stop Time'])\n",
        "data_2016['DATE'] = data_2016['Start Time'].dt.date\n",
        "data_2016['Age'] = 2023 -  data_2016['Birth Year']\n",
        "\n",
        "grouped_data_2016 = data_2016.groupby(['DATE']).agg({\n",
        "    'Trip Duration': ['sum', 'count']\n",
        "})\n",
        "\n",
        "grouped_data_2016 = grouped_data_2016.rename(columns={\n",
        "    'Trip Duration_sum': 'TD_sum',\n",
        "    'Trip Duration_count': 'TD_count'\n",
        "})\n",
        "grouped_data_2016.columns = ['TD_sum', 'TD_count']\n",
        "grouped_data_2016['DATE_'] = pd.to_datetime(grouped_data_2016.index)\n",
        "\n",
        "#WEATHER TABLE\n",
        "\n",
        "data_newark_2016 = pd.read_csv(r'/content/data/newark_airport_2016.csv')\n",
        "data_newark_2016['TVAG_C'] = (data_newark_2016['TAVG'] - 32) * 5/9\n",
        "data_newark_2016['TMAX_C'] = (data_newark_2016['TMAX'] - 32) * 5/9\n",
        "data_newark_2016['TMIN_C'] = (data_newark_2016['TMIN'] - 32) * 5/9\n",
        "data_newark_2016['DATE_'] = pd.to_datetime(data_newark_2016['DATE'])  \n",
        "\n",
        "conditions = [data_newark_2016['PRCP'] <= 0,data_newark_2016['PRCP'] <= 1 , data_newark_2016['PRCP'] > 1]\n",
        "values = [1,2,3]\n",
        "\n",
        "data_newark_2016['PRCP_Flag'] = np.where(conditions[0], values[0], np.where(conditions[1], values[1],values[2]))\n",
        "\n",
        "merged_table = pd.merge(data_newark_2016,grouped_data_2016, on='DATE_', how='left')\n",
        "\n",
        "grouped_merged_table = merged_table.groupby(['PRCP_Flag']).agg({\n",
        "    'TD_count': ['sum', 'mean']})\n",
        "\n",
        "\n",
        "grouped_merged_table = grouped_merged_table.rename(columns={\n",
        "    'TD_count_sum': 'trips_sum',\n",
        "    'TD_count_mean': 'trips_mean'\n",
        "})\n",
        "grouped_merged_table.columns = ['trips_sum', 'trips_mean']\n",
        "\n",
        "grouped_merged_table = grouped_merged_table.reset_index()\n",
        "\n",
        "# Plot the data\n",
        "plt.plot(grouped_merged_table['PRCP_Flag'], grouped_merged_table['trips_sum'], marker='o')\n",
        "\n",
        "# Add axis labels and title\n",
        "plt.xlabel('PRCP_Flag')\n",
        "plt.ylabel('trips_mean')\n",
        "plt.title('Line plot of trips_mean vs PRCP_Flag')\n",
        "\n",
        "# Show the plot\n",
        "# plt.show()\n",
        "\n",
        "html = mpld3.fig_to_html(plt.gcf())\n",
        "with open('plot.html', 'w') as f:\n",
        "    f.write(html)\n",
        "\n",
        "webbrowser.open('plot.html')\n"
      ]
    }
  ]
}